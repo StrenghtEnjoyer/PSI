{
 "cells": [
  {
   "cell_type": "code",
   "execution_count": 37,
   "metadata": {},
   "outputs": [
    {
     "name": "stdout",
     "output_type": "stream",
     "text": [
      "0 [ 68 -10  16] [1, 2, 3, 4]\n",
      "1 [ 72 -77   6] [0, 2, 3, 4]\n",
      "2 [  0 -51   0] [0, 1, 3, 4]\n",
      "3 [ 4 66 50] [0, 1, 2, 4]\n",
      "4 [ 25 -83  22] [0, 1, 2, 3]\n"
     ]
    }
   ],
   "source": [
    "import numpy as np\n",
    "import random\n",
    "\n",
    "class Node:\n",
    "    def __init__(self, id):\n",
    "        self.id = id\n",
    "        self.position = None\n",
    "        self.neighbors = None\n",
    "    \n",
    "    def show_param(self):\n",
    "        print(self.id, self.position, self.neighbors)\n",
    "\n",
    "    def get_position(self):\n",
    "        x = random.randint(-100, 100)\n",
    "        y = random.randint(-100, 100)\n",
    "        z = random.randint(0, 50)\n",
    "        self.position = np.asarray([x, y, z])\n",
    "    \n",
    "    def get_connections(self, num_cit, possibility):\n",
    "        con = []\n",
    "        for i in range(num_cit):\n",
    "            if i == self.id:\n",
    "                pass\n",
    "            else:\n",
    "                a = random.randint(1, 100)\n",
    "                if a <= possibility:\n",
    "                    con.append(i)\n",
    "        self.neighbors = con\n",
    "    \n",
    "num_cit = 5\n",
    "cities_lst = []\n",
    "for i in range(num_cit):\n",
    "    node = Node(i)\n",
    "    node.get_position()\n",
    "    node.get_connections(5, 90)\n",
    "    node.show_param()\n",
    "    cities_lst.append(node)\n",
    "\n",
    "def calculate_cost(routes, cities, assimetrial=False):\n",
    "    costs = []\n",
    "    window = 2\n",
    "    if assimetrial == False:\n",
    "        for route in routes:\n",
    "            cost = 0\n",
    "            for i in range(len(route)):\n",
    "                if route[i] == route[-1]:\n",
    "                    cost = cost + np.linalg.norm(cities[route[-1]].position - cities[route[0]].position)\n",
    "                    costs.append(cost)   \n",
    "                else:\n",
    "                    for j in range(len(route)):\n",
    "                        a = route[j:j+window]\n",
    "                        if len(a) == 2:\n",
    "                            cost = cost + np.linalg.norm(cities[a[0]].position - cities[a[1]].position) \n",
    "        return costs\n",
    "    elif assimetrial != False:\n",
    "        for route in routes:\n",
    "            cost = 0\n",
    "            for i in range(len(route)):\n",
    "                if route[i] == route[-1]:\n",
    "                    direction = cities[route[-1]].position[2] - cities[route[0]].position[2]\n",
    "                    if direction > 0 or direction < cities[route[-1]].position[2]:\n",
    "                        cost = cost + (np.linalg.norm(cities[route[-1]].position - cities[route[0]].position)-np.linalg.norm(cities[route[-1]].position - cities[route[0]].position)*0.1)\n",
    "                        costs.append(cost)   \n",
    "                    else: \n",
    "                        cost = cost + (np.linalg.norm(cities[route[-1]].position - cities[route[0]].position)+np.linalg.norm(cities[route[-1]].position - cities[route[0]].position)*0.1)\n",
    "                        costs.append(cost)  \n",
    "                else:\n",
    "                    for j in range(len(route)):\n",
    "                        a = route[j:j+window]\n",
    "                        if len(a) == 2:\n",
    "                            direction = cities[a[0]].position[2] - cities[a[1]].position[2]\n",
    "                            if direction > 0 or direction < cities[0].position[2]:\n",
    "                                cost = cost + (np.linalg.norm(cities[a[0]].position - cities[a[1]].position)-np.linalg.norm(cities[a[0]].position - cities[a[1]].position)*0.1) \n",
    "                            else:\n",
    "                                cost = cost + (np.linalg.norm(cities[a[0]].position - cities[a[1]].position)+np.linalg.norm(cities[a[0]].position - cities[a[1]].position)*0.1)\n",
    "        return costs"
   ]
  },
  {
   "cell_type": "code",
   "execution_count": 49,
   "metadata": {},
   "outputs": [
    {
     "name": "stdout",
     "output_type": "stream",
     "text": [
      "24\n"
     ]
    }
   ],
   "source": [
    "def dfs(city_map, start_point, path=None, path_lst=[]):\n",
    "    if path is None:\n",
    "        path = [start_point]\n",
    "\n",
    "    if len(path) == len(city_map):\n",
    "        path_lst.append(path)\n",
    "\n",
    "    possible = city_map[start_point].neighbors\n",
    "    for i in possible:\n",
    "        if i not in path:\n",
    "            new_path = path.copy()\n",
    "            new_path.append(i)\n",
    "            dfs(city_map, i, new_path, path_lst)\n",
    "\n",
    "    return path_lst\n",
    "a = dfs(cities_lst, 0)\n",
    "print(len(a))\n",
    "\n",
    "\n"
   ]
  },
  {
   "cell_type": "code",
   "execution_count": 39,
   "metadata": {},
   "outputs": [
    {
     "name": "stdout",
     "output_type": "stream",
     "text": [
      "[1784.9351575393503, 1480.5563808186137, 1707.6855707312018, 1806.777039339286, 1270.4279776137457, 1673.8982229425662, 1985.6757168796057, 1548.418123762149, 1775.547313674737, 1713.3177720146837, 1471.1685369540007, 1846.1965884114034, 1654.2483257785866, 1543.2113911818024, 1521.3695093818667, 1381.8903809136648, 1620.460977989951, 1592.0187841185332, 1461.1324635650979, 1787.3531220857699, 1594.0112799618175, 1758.910928214352, 1997.4815252906383, 1836.1605150225007]\n",
      "[1, 2]\n",
      "[2, 3]\n",
      "[3, 4]\n",
      "[4, 5]\n",
      "[5]\n"
     ]
    }
   ],
   "source": [
    "print(calculate_cost(a, cities_lst, assimetrial=False))\n",
    "#cities_lst[2].position\n",
    "lst = [1,2,3,4,5]\n",
    "window = 2\n",
    "for i in range(len(lst)):\n",
    "    print(lst[i:i+window])"
   ]
  },
  {
   "cell_type": "code",
   "execution_count": 48,
   "metadata": {},
   "outputs": [
    {
     "name": "stdout",
     "output_type": "stream",
     "text": [
      "24\n",
      "[1784.9351575393503, 1480.5563808186137, 1707.6855707312018, 1806.777039339286, 1270.4279776137457, 1673.8982229425662, 1985.6757168796057, 1548.418123762149, 1775.547313674737, 1713.3177720146837, 1471.1685369540007, 1846.1965884114034, 1654.2483257785866, 1543.2113911818024, 1521.3695093818667, 1381.8903809136648, 1620.460977989951, 1592.0187841185332, 1461.1324635650979, 1787.3531220857699, 1594.0112799618175, 1758.910928214352, 1997.4815252906383, 1836.1605150225007]\n"
     ]
    }
   ],
   "source": [
    "from collections import deque\n",
    "\n",
    "def bfs_paths(graph, start):\n",
    "    # Initialize the queue with the starting node and an empty path\n",
    "    queue = deque([(start, [start])])\n",
    "    all_paths = []\n",
    "\n",
    "    while queue:\n",
    "        current_node, path = queue.popleft()\n",
    "\n",
    "        # Check if the current path reaches an endpoint (all nodes visited)\n",
    "        if len(path) == len(graph):\n",
    "            all_paths.append(path)\n",
    "            continue\n",
    "\n",
    "        for neighbor in graph[current_node].neighbors:\n",
    "            if neighbor not in path:\n",
    "                # Create a new path with the neighbor node added\n",
    "                new_path = path + [neighbor]\n",
    "                queue.append((neighbor, new_path))\n",
    "\n",
    "    return all_paths\n",
    "\n",
    "# Test the function with the provided graph\n",
    "graph = {0: [1, 2, 3], 1: [0, 2, 3], 2: [0, 1, 3], 3: [0, 1, 2]}\n",
    "start_node = 0\n",
    "result = bfs_paths(cities_lst, start_node)\n",
    "print(len(result))\n",
    "print(calculate_cost(result, cities_lst, assimetrial=False))"
   ]
  }
 ],
 "metadata": {
  "kernelspec": {
   "display_name": ".venv",
   "language": "python",
   "name": "python3"
  },
  "language_info": {
   "codemirror_mode": {
    "name": "ipython",
    "version": 3
   },
   "file_extension": ".py",
   "mimetype": "text/x-python",
   "name": "python",
   "nbconvert_exporter": "python",
   "pygments_lexer": "ipython3",
   "version": "3.11.4"
  },
  "orig_nbformat": 4
 },
 "nbformat": 4,
 "nbformat_minor": 2
}
